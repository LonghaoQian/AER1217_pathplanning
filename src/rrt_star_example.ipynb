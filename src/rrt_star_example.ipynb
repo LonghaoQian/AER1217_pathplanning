{
 "cells": [
  {
   "cell_type": "code",
   "execution_count": 1,
   "metadata": {},
   "outputs": [],
   "source": [
    "import planner as pl\n",
    "import matplotlib.pyplot as plt"
   ]
  },
  {
   "cell_type": "markdown",
   "metadata": {},
   "source": [
    "### define a square map"
   ]
  },
  {
   "cell_type": "code",
   "execution_count": 2,
   "metadata": {},
   "outputs": [],
   "source": [
    "squareMap = pl.SquareMap(0, 0, 100, 50)"
   ]
  },
  {
   "cell_type": "markdown",
   "metadata": {},
   "source": [
    "### define planner"
   ]
  },
  {
   "cell_type": "code",
   "execution_count": 3,
   "metadata": {},
   "outputs": [],
   "source": [
    "# starting node\n",
    "start = pl.TreeNode(10, 10)\n",
    "goal = pl.TreeNode(73, 40)\n",
    "maxItr = 10000\n",
    "stepSize = 3\n",
    "rewireRadius = 15\n",
    "goalTolerance = 5\n",
    "collisionTolerance = 1\n",
    "planner = pl.RRTStarPlanner(squareMap, start, goal, maxItr, stepSize, rewireRadius, goalTolerance , collisionTolerance)"
   ]
  },
  {
   "cell_type": "markdown",
   "metadata": {},
   "source": [
    "### define map and obstacles"
   ]
  },
  {
   "cell_type": "code",
   "execution_count": 4,
   "metadata": {},
   "outputs": [],
   "source": [
    "planner.AddObstacles(pl.Obstacles(40, 18, 10))\n",
    "planner.AddObstacles(pl.Obstacles(60, 38, 5))"
   ]
  },
  {
   "cell_type": "markdown",
   "metadata": {},
   "source": [
    "### show the map and the obstacles"
   ]
  },
  {
   "cell_type": "code",
   "execution_count": 5,
   "metadata": {},
   "outputs": [
    {
     "name": "stdout",
     "output_type": "stream",
     "text": [
      "can not find path to goal!\n",
      "[0, 7, 35, 42, 48, 51, 98, 111, 208, 244, 245]\n"
     ]
    },
    {
     "data": {
      "image/png": "[encoded data removed]",
      "text/plain": [
       "<Figure size 640x480 with 1 Axes>"
      ]
     },
     "metadata": {},
     "output_type": "display_data"
    }
   ],
   "source": [
    "x_m, y_m = pl.GenerateMapBorder(squareMap)\n",
    "ob_coordinate = list()\n",
    "for ob in planner.obstacleList:\n",
    "    x, y = pl.GenerateCircles(ob)\n",
    "    ob_coordinate.append([x, y])\n",
    "\n",
    "fig, ax = plt.subplots()\n",
    "ax.axis('equal')\n",
    "ax.plot(x_m, y_m, color = 'k', linewidth=2.0)\n",
    "# calling pause function in interactive mode to wait for \n",
    "# drawing to complete\n",
    "for X in ob_coordinate:\n",
    "    ax.plot(X[0], X[1], color = 'r', linewidth=1.0)\n",
    "\n",
    "# start location\n",
    "ax.scatter(planner.start_pos.pos_x, planner.start_pos.pos_y, c='g')\n",
    "# end location\n",
    "ax.scatter(planner.goal_pos.pos_x, planner.goal_pos.pos_y, c='b')\n",
    "\n",
    "planner.Calculate()\n",
    "\n",
    "if planner.pathFound:\n",
    "    # plot the path\n",
    "    res = planner.FormPath()\n",
    "    print(res)\n",
    "    x = list()\n",
    "    y = list()\n",
    "    for nodeIdx in res:\n",
    "        x.append(planner.nodeList[nodeIdx].pos_x)\n",
    "        y.append(planner.nodeList[nodeIdx].pos_y)\n",
    "    ax.plot(x, y, color = 'r', linewidth=1)\n",
    "else:\n",
    "    print(\"can not find path!\")\n",
    "\n",
    "plt.show()"
   ]
  },
  {
   "cell_type": "markdown",
   "metadata": {},
   "source": [
    "### perform one step update"
   ]
  }
 ],
 "metadata": {
  "kernelspec": {
   "display_name": "control_env",
   "language": "python",
   "name": "python3"
  },
  "language_info": {
   "codemirror_mode": {
    "name": "ipython",
    "version": 3
   },
   "file_extension": ".py",
   "mimetype": "text/x-python",
   "name": "python",
   "nbconvert_exporter": "python",
   "pygments_lexer": "ipython3",
   "version": "3.11.4"
  }
 },
 "nbformat": 4,
 "nbformat_minor": 2
}
