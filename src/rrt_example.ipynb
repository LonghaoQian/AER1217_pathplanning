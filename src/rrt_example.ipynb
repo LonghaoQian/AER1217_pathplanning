{
 "cells": [
  {
   "cell_type": "code",
   "execution_count": 1,
   "metadata": {},
   "outputs": [],
   "source": [
    "import planner as pl\n",
    "from matplotlib.animation import FuncAnimation\n",
    "import matplotlib.pyplot as plt"
   ]
  },
  {
   "cell_type": "markdown",
   "metadata": {},
   "source": [
    "### define a square map"
   ]
  },
  {
   "cell_type": "code",
   "execution_count": 2,
   "metadata": {},
   "outputs": [],
   "source": [
    "squareMap = pl.SquareMap(0, 0, 100, 50)"
   ]
  },
  {
   "cell_type": "markdown",
   "metadata": {},
   "source": [
    "### define planner"
   ]
  },
  {
   "cell_type": "code",
   "execution_count": 3,
   "metadata": {},
   "outputs": [],
   "source": [
    "# starting node\n",
    "start = pl.TreeNode(10, 10)\n",
    "goal = pl.TreeNode(73, 40)\n",
    "planner = pl.RRTPlanner(squareMap, start, goal, 10000, 5, 5, 1)"
   ]
  },
  {
   "cell_type": "markdown",
   "metadata": {},
   "source": [
    "### define map and obstacles"
   ]
  },
  {
   "cell_type": "code",
   "execution_count": 4,
   "metadata": {},
   "outputs": [],
   "source": [
    "planner.AddObstacles(pl.Obstacles(50, 15, 8))\n",
    "planner.AddObstacles(pl.Obstacles(50, 35, 8))"
   ]
  },
  {
   "cell_type": "markdown",
   "metadata": {},
   "source": [
    "### show the map and the obstacles"
   ]
  },
  {
   "cell_type": "code",
   "execution_count": 5,
   "metadata": {},
   "outputs": [
    {
     "name": "stdout",
     "output_type": "stream",
     "text": [
      "[6.855948643914142, 10]\n",
      "[6.1122061435443005, 10]\n"
     ]
    },
    {
     "data": {
      "image/png": "[encoded data removed]",
      "text/plain": [
       "<Figure size 640x480 with 1 Axes>"
      ]
     },
     "metadata": {},
     "output_type": "display_data"
    },
    {
     "name": "stdout",
     "output_type": "stream",
     "text": [
      "[12.820697151086533, 10]\n",
      "[14.128397701512334, 10]\n",
      "[14.28379973657421, 10]\n",
      "[7.421422908477095, 10]\n",
      "[19.199084023340703, 14.28379973657421]\n",
      "[6.504918472990612, 7.421422908477095]\n",
      "[15.275683969141301, 12.820697151086533]\n",
      "[18.484202991372904, 14.128397701512334]\n",
      "6\n"
     ]
    }
   ],
   "source": [
    "x_m, y_m = pl.GenerateMapBorder(squareMap)\n",
    "ob_coordinate = list()\n",
    "for ob in planner.obstacleList:\n",
    "    x, y = pl.GenerateCircles(ob)\n",
    "    ob_coordinate.append([x, y])\n",
    "\n",
    "plt.ion()  # turning interactive mode on\n",
    "fig, ax = plt.subplots()\n",
    "ax.axis('equal')\n",
    "ax.plot(x_m, y_m, color = 'k', linewidth=2.0)\n",
    "# calling pause function in interactive mode to wait for \n",
    "# drawing to complete\n",
    "for X in ob_coordinate:\n",
    "    ax.plot(X[0], X[1], color = 'r', linewidth=1.0)\n",
    "    fig.canvas.draw()\n",
    "    fig.canvas.flush_events()\n",
    "\n",
    "# start location\n",
    "ax.scatter(planner.start_pos.pos_x, planner.start_pos.pos_y, c='g')\n",
    "# end location\n",
    "ax.scatter(planner.goal_pos.pos_x, planner.goal_pos.pos_y, c='b')\n",
    "\n",
    "for _ in range(20):\n",
    "    if planner.UpdateOneStep():\n",
    "        parentIdx = planner.nodeList[-1].parent\n",
    "        x = [planner.nodeList[-1].pos_x, planner.nodeList[parentIdx].pos_x]\n",
    "        y = [planner.nodeList[-1].pos_y, planner.nodeList[parentIdx].pos_y]\n",
    "        print(x)\n",
    "        print(y)\n",
    "        ax.plot(x, y, color = 'b', linewidth=0.5)\n",
    "        fig.canvas.draw()\n",
    "        fig.canvas.flush_events()\n",
    "        plt.pause(0.2)\n",
    "\n",
    "print(len(planner.nodeList))"
   ]
  },
  {
   "cell_type": "markdown",
   "metadata": {},
   "source": [
    "### perform one step update"
   ]
  }
 ],
 "metadata": {
  "kernelspec": {
   "display_name": "control_env",
   "language": "python",
   "name": "python3"
  },
  "language_info": {
   "codemirror_mode": {
    "name": "ipython",
    "version": 3
   },
   "file_extension": ".py",
   "mimetype": "text/x-python",
   "name": "python",
   "nbconvert_exporter": "python",
   "pygments_lexer": "ipython3",
   "version": "3.11.4"
  }
 },
 "nbformat": 4,
 "nbformat_minor": 2
}
